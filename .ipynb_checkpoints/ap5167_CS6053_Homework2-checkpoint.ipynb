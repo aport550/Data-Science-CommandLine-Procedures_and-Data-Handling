{
 "cells": [
  {
   "cell_type": "markdown",
   "metadata": {},
   "source": [
    "# Foundations of Data Science\n",
    "## Homework 2"
   ]
  },
  {
   "cell_type": "markdown",
   "metadata": {},
   "source": [
    "Student Name:  Allan Porter\n",
    "\n",
    "Student Netid: ap5167\n",
    "***"
   ]
  },
  {
   "cell_type": "markdown",
   "metadata": {},
   "source": [
    "### Part 1: Case study (5 Points)\n",
    "- Read [this article](http://www.nytimes.com/2012/02/19/magazine/shopping-habits.html) in the New York Times.\n",
    "- Use what we've learned in class and from the book to describe how one could set Target's problem up as a predictive modeling problem, such that they could have gotten the results that they did.  Formulate your solution as a proposed plan using our data science terminology.  Include aspects of the Data Science Workflow that you see as relevant to solving the problem.  Be precise but concise."
   ]
  },
  {
   "cell_type": "markdown",
   "metadata": {},
   "source": [
    "Step 1:  Defining the Problem:  Target wants to advertise products to pregnant women in their second trimester before other stores have a chance to.  They plan on doing this by building a predictive model that can predict whether the customers are pregnant or not.  The goal here is that if a customer is in fact pregnant, Target will send them coupons for baby related products which they will then be more likely to purchase.  \n",
    "\n",
    "Step 2:  Gathering the Data:  Target maintains Guest ID's for its customers linked with demographic information as well and other data which Target purchased from other companies.   The data should be acquired and initially explored to make sure it is useful.\n",
    "\n",
    "Step 3:  Cleaning/Integrating the Data: The data should cleaned- missing values should be filled in and outliers should be examined and dealt with.  The data should be combined and duplicated data should be removed.   The data should also be initially explored (getting means, variances of columns, visualizing the distribution).  \n",
    "\n",
    "Step 4: Examining the Columns:  Tests that measure correlation should perhaps be done on the variables to determine which variables are related.  If a variable is related to another variable perhaps that should be taken into account as perhaps the amount of features can be reduced through dimensionality reduction. \n",
    "\n",
    "Step 5:  Choosing the features and Target for a ML Model:  Relevant variables for predicting customers pregnancy status should be determined and such features should be included in our prediction model.  Features should be chosen based on which exhibit the highest amounts of information as a means to reduce uncertainty. Feature selection or feature extraction can be done at this step.   Feature engineering should be done as well.  The target variable here is obviously \"Pregnancy Status\".  \n",
    "\n",
    "Step 6: Choosing a Classifier and Predicting the DV:  Since pregnancy status is a discrete variable and is not continuous, this is a classification problem, and a machine learning model that deals with classification should be utilized.  Training and test data should be split, and the classifer should  be used to predict the test data and check how accurate it is in predicting it correctly. Multiple classifiers should be tried (IE logistic regression, SVM and more) to determine which gives the best results.  The model should then be tuned until it is determined to be ready for predicting which customers are pregnant.  "
   ]
  },
  {
   "cell_type": "markdown",
   "metadata": {},
   "source": [
    "### Part 2: Exploring data in the command line (4 Points - 1 Point Each)\n",
    "For this part we will be using the data file located in `\"data/loansData.csv\"`. This file consists of records that pertain to some loan records in a local bank. There are 15 comma separated columns in this order: \n",
    "\n",
    "`CustNUm`, `Amount.Requested`,\t`Amount.Funded.By.Investors`,\t`Interest.Rate`,\t`Loan.Length`,\t`Loan.Purpose`,\t`Debt.To.Income.Ratio`,\t`State`,\t`Home.Ownership`,\t`Monthly.Income`,\t`FICO.Range`,\t`Open.CREDIT.Lines`,\t`Revolving.CREDIT.Balance`,\t`Inquiries.in.the.Last.6.Months`, and\t`Employment.Length`. \n",
    "\n",
    "These fields contain data of type `int`, `float`, and `string`, and you can also locate a file `\"data/loansData_columns.csv\"`in the data folder containing all the column names for easy reference.  Answer the following questions using Linux/Unix bash commands. All questions can be answered in one line (sometimes, with pipes)! Some questions will have many possible solutions. Don't forget that in iPython notebooks you must prefix all bash commands with an exclamation point, i.e. `\"!command arguments\"`."
   ]
  },
  {
   "cell_type": "markdown",
   "metadata": {},
   "source": [
    "1\\. How many records (lines) are in this file?"
   ]
  },
  {
   "cell_type": "code",
   "execution_count": 18,
   "metadata": {},
   "outputs": [
    {
     "name": "stdout",
     "output_type": "stream",
     "text": [
      "    2499\r\n"
     ]
    }
   ],
   "source": [
    "!cat data/loansData.csv | wc -l"
   ]
  },
  {
   "cell_type": "markdown",
   "metadata": {},
   "source": [
    "2\\. How many unique `State` (the 8th field) are in this file? (hint: consider the 'cut' command and use pipe operator '|')"
   ]
  },
  {
   "cell_type": "code",
   "execution_count": 24,
   "metadata": {},
   "outputs": [
    {
     "name": "stdout",
     "output_type": "stream",
     "text": [
      "      46\r\n"
     ]
    }
   ],
   "source": [
    "!cut -d ',' -f 8 data/loansData.csv | sort | uniq | wc -l"
   ]
  },
  {
   "cell_type": "markdown",
   "metadata": {},
   "source": [
    "3\\. Rank all domains by the number of `Loan.Purpose` (the 6th field) they requested in descending order. (hint: consider the 'cut', 'uniq' and 'sort' commands and the pipe operator)."
   ]
  },
  {
   "cell_type": "code",
   "execution_count": 20,
   "metadata": {
    "scrolled": true
   },
   "outputs": [
    {
     "name": "stdout",
     "output_type": "stream",
     "text": [
      "1307 debt_consolidation\r\n",
      " 444 credit_card\r\n",
      " 201 other\r\n",
      " 152 home_improvement\r\n",
      " 101 major_purchase\r\n",
      "  87 small_business\r\n",
      "  50 car\r\n",
      "  39 wedding\r\n",
      "  30 medical\r\n",
      "  29 moving\r\n",
      "  21 vacation\r\n",
      "  20 house\r\n",
      "  15 educational\r\n",
      "   4 renewable_energy\r\n"
     ]
    }
   ],
   "source": [
    "!cut -f 6 -d , data/loansData.csv | sort -k 6 | uniq -c | sort -r"
   ]
  },
  {
   "cell_type": "markdown",
   "metadata": {},
   "source": [
    "4\\. List all records which have `FICO.Range` (the 11th field) from 815-819. (hint: this can be done using 'grep')"
   ]
  },
  {
   "cell_type": "code",
   "execution_count": 21,
   "metadata": {
    "scrolled": true
   },
   "outputs": [
    {
     "name": "stdout",
     "output_type": "stream",
     "text": [
      "64884,9000,9000,6.03%,36 months,vacation,5.58%,NJ,MORTGAGE,9583.33,815-819,11,675,0,n/a\r",
      "\r\n",
      "55501,8000,8000,6.03%,36 months,debt_consolidation,4.51%,OR,MORTGAGE,3500,815-819,9,6737,0,10+ years\r",
      "\r\n",
      "93374,16500,16500,6.03%,36 months,debt_consolidation,22.65%,CA,MORTGAGE,5416.67,815-819,17,14835,0,10+ years\r",
      "\r\n",
      "90568,4800,4800,6.62%,36 months,car,10.42%,TX,MORTGAGE,7291.67,815-819,14,0,0,< 1 year\r",
      "\r\n",
      "80302,16800,16800,7.90%,60 months,debt_consolidation,3.34%,FL,MORTGAGE,10666.67,815-819,7,4757,0,10+ years\r",
      "\r\n",
      "5906,12800,12787.71,8.94%,36 months,debt_consolidation,0.18%,AZ,MORTGAGE,2833.33,815-819,7,306,0,4 years\r",
      "\r\n"
     ]
    }
   ],
   "source": [
    "!awk -F, '$11==\"815-819\"' data/loansData.csv"
   ]
  },
  {
   "cell_type": "markdown",
   "metadata": {},
   "source": [
    "### Part 3: Dealing with data Pythonically (16 Points)"
   ]
  },
  {
   "cell_type": "code",
   "execution_count": 25,
   "metadata": {},
   "outputs": [],
   "source": [
    "# You might find these packages useful. You may import any others you want!\n",
    "import pandas as pd\n",
    "import numpy as np\n",
    "import matplotlib.pyplot as plt\n",
    "%matplotlib inline"
   ]
  },
  {
   "cell_type": "markdown",
   "metadata": {},
   "source": [
    "1\\. (1 Point) Load the data set `\"data/ads_dataset.tsv\"` and load it into a Python Pandas data frame called `ads`."
   ]
  },
  {
   "cell_type": "code",
   "execution_count": 26,
   "metadata": {
    "scrolled": true
   },
   "outputs": [
    {
     "data": {
      "text/plain": [
       "count    54584.000000\n",
       "mean         1.852777\n",
       "std          2.921820\n",
       "min          0.000000\n",
       "25%          1.000000\n",
       "50%          1.000000\n",
       "75%          2.000000\n",
       "max         84.000000\n",
       "Name: call_freq, dtype: float64"
      ]
     },
     "execution_count": 26,
     "metadata": {},
     "output_type": "execute_result"
    }
   ],
   "source": [
    "ads = pd.read_csv(\"data/ads_dataset.tsv\", sep='\\t') #separate by \\t to make sense of columns \n",
    "#ads.shape\n",
    "#ads.head()\n",
    "#ads['call_freq'].describe()"
   ]
  },
  {
   "cell_type": "markdown",
   "metadata": {},
   "source": [
    "2\\. (4 Points) Write a Python function called `getDfSummary()` that does the following:\n",
    "- Takes as input a data frame\n",
    "- For each variable in the data frame calculates the following features:\n",
    "  - `number_nan` to count the number of missing not-a-number values\n",
    "  - Ignoring missing, NA, and Null values:\n",
    "    - `number_distinct` to count the number of distinct values a variable can take on\n",
    "    - `mean`, `max`, `min`, `std` (standard deviation), and `25%`, `50%`, `75%` to correspond to the appropriate percentiles\n",
    "- All of these new features should be loaded in a new data frame. Each row of the data frame should be a variable from the input data frame, and the columns should be the new summary features.\n",
    "- Returns this new data frame containing all of the summary information\n",
    "\n",
    "Hint: The pandas `describe()` [(manual page)](http://pandas.pydata.org/pandas-docs/stable/generated/pandas.DataFrame.describe.html) method returns a useful series of values that can be used here."
   ]
  },
  {
   "cell_type": "code",
   "execution_count": 27,
   "metadata": {},
   "outputs": [],
   "source": [
    "def getDfSummary(input_data):\n",
    "    summary = []\n",
    "    for column in input_data:\n",
    "        column_data = [] \n",
    "        column_data.append(input_data[column].isna().sum()) #add amount of not a number values per column to list\n",
    "        column_data.append(input_data[column].nunique()) #add admount of unique values per column to list\n",
    "        description = input_data[column].describe()[['mean','max','min','std','25%','50%','75%']] \n",
    "        column_data.append(description[0])\n",
    "        column_data.extend(description[1:])\n",
    "        summary.append(column_data)\n",
    "    output_data = pd.DataFrame(summary, index = input_data.columns, columns = (\"number_nan\", \"number_distinct\", \"mean\", \"max\", \"min\", \"std\", \"25%\", \"50%\", \"75%\"))\n",
    "    return output_data\n",
    "#getDfSummary(ads)"
   ]
  },
  {
   "cell_type": "markdown",
   "metadata": {},
   "source": [
    "3\\. (1 Point) How long does it take for your `getDfSummary()` function to work on your `ads` data frame? Show us the results below.\n",
    "\n",
    "Hint: `%timeit getDfSummary(ads)`"
   ]
  },
  {
   "cell_type": "code",
   "execution_count": 28,
   "metadata": {},
   "outputs": [
    {
     "name": "stdout",
     "output_type": "stream",
     "text": [
      "84.4 ms ± 924 µs per loop (mean ± std. dev. of 7 runs, 10 loops each)\n"
     ]
    }
   ],
   "source": [
    "%timeit getDfSummary(ads)\n",
    "#Results vary, on my run I got- 84.4 ms ± 924 µs per loop (mean ± std. dev. of 7 runs, 10 loops each)"
   ]
  },
  {
   "cell_type": "markdown",
   "metadata": {},
   "source": [
    "4\\. (2 Points) Using the results returned from `getDfSummary()`, which fields, if any, contain missing `NaN` values?"
   ]
  },
  {
   "cell_type": "code",
   "execution_count": 29,
   "metadata": {},
   "outputs": [
    {
     "data": {
      "text/html": [
       "<div>\n",
       "<style scoped>\n",
       "    .dataframe tbody tr th:only-of-type {\n",
       "        vertical-align: middle;\n",
       "    }\n",
       "\n",
       "    .dataframe tbody tr th {\n",
       "        vertical-align: top;\n",
       "    }\n",
       "\n",
       "    .dataframe thead th {\n",
       "        text-align: right;\n",
       "    }\n",
       "</style>\n",
       "<table border=\"1\" class=\"dataframe\">\n",
       "  <thead>\n",
       "    <tr style=\"text-align: right;\">\n",
       "      <th></th>\n",
       "      <th>number_nan</th>\n",
       "      <th>number_distinct</th>\n",
       "      <th>mean</th>\n",
       "      <th>max</th>\n",
       "      <th>min</th>\n",
       "      <th>std</th>\n",
       "      <th>25%</th>\n",
       "      <th>50%</th>\n",
       "      <th>75%</th>\n",
       "    </tr>\n",
       "  </thead>\n",
       "  <tbody>\n",
       "    <tr>\n",
       "      <th>video_freq</th>\n",
       "      <td>52257</td>\n",
       "      <td>10</td>\n",
       "      <td>1.240653</td>\n",
       "      <td>15.0</td>\n",
       "      <td>1.0</td>\n",
       "      <td>0.782228</td>\n",
       "      <td>1.0</td>\n",
       "      <td>1.0</td>\n",
       "      <td>1.0</td>\n",
       "    </tr>\n",
       "  </tbody>\n",
       "</table>\n",
       "</div>"
      ],
      "text/plain": [
       "            number_nan  number_distinct      mean   max  min       std  25%  \\\n",
       "video_freq       52257               10  1.240653  15.0  1.0  0.782228  1.0   \n",
       "\n",
       "            50%  75%  \n",
       "video_freq  1.0  1.0  "
      ]
     },
     "execution_count": 29,
     "metadata": {},
     "output_type": "execute_result"
    }
   ],
   "source": [
    "new = getDfSummary(ads)\n",
    "new[new['number_nan'] >= 1]\n",
    "\n",
    "#the video_freq field contains 52257 missing values"
   ]
  },
  {
   "cell_type": "markdown",
   "metadata": {},
   "source": [
    "5\\. (4 Points) For the fields with missing values, does it look like the data is missing at random? Are there any other fields that correlate perfectly, or predict that the data is missing? If missing, what should the data value be?\n",
    "\n",
    "Hint: create another data frame that has just the records with a missing value. Get a summary of this data frame using `getDfSummary()` and compare the differences. Do some feature distributions change dramatically?"
   ]
  },
  {
   "cell_type": "code",
   "execution_count": 30,
   "metadata": {
    "scrolled": false
   },
   "outputs": [
    {
     "data": {
      "text/plain": [
       "<matplotlib.axes._subplots.AxesSubplot at 0x1a1cfe6080>"
      ]
     },
     "execution_count": 30,
     "metadata": {},
     "output_type": "execute_result"
    },
    {
     "data": {
      "image/png": "[encoded data removed]",
      "text/plain": [
       "<Figure size 432x288 with 2 Axes>"
      ]
     },
     "metadata": {
      "needs_background": "light"
     },
     "output_type": "display_data"
    }
   ],
   "source": [
    "# All of the missing data is confined to the \"video_freq\" column, and out of 54584 total values, 52257 are missing\n",
    "\n",
    "#missing = ads[ads['video_freq'].isnull()]\n",
    "#getDfSummary(missing)\n",
    "#getDfSummary(ads)\n",
    "\n",
    "import seaborn as sns\n",
    "copy = ads\n",
    "copy['contains_null'] = 0\n",
    "copy.loc[copy['video_freq'].isnull(), 'contains_null'] = 1\n",
    "#See if video_freq being null correlates with any other features\n",
    "corr = copy.corr()\n",
    "sns.heatmap(corr,linecolor='black',linewidths=1)\n",
    "# It doesn't look like the data is missing at random, is_video_user, video_interval and multiple_video columns\n",
    "# are all highly negatively correlated with contains_null, which makes sense is there is no video frequency at all\n",
    "# variable for those entries relating to video would be 0\n",
    "# Since there is so much data missing for the video_freq variable, I would just drop that column"
   ]
  },
  {
   "cell_type": "markdown",
   "metadata": {},
   "source": [
    "6\\. (2 Points) Which variables are binary?"
   ]
  },
  {
   "cell_type": "code",
   "execution_count": 31,
   "metadata": {},
   "outputs": [
    {
     "data": {
      "text/plain": [
       "['is_video_user', 'multiple_video', 'multiple_carrier', 'is_churn']"
      ]
     },
     "execution_count": 31,
     "metadata": {},
     "output_type": "execute_result"
    }
   ],
   "source": [
    "# Place your code here\n",
    "ads = ads.drop([\"contains_null\"], axis=1) #comment this out after running once, as cant drop same column twice\n",
    "[c for c in ads.columns if ads[c].nunique() == 2]\n",
    "# Binary: ['is_video_user', 'multiple_video', 'multiple_carrier', 'is_churn']"
   ]
  },
  {
   "cell_type": "markdown",
   "metadata": {},
   "source": [
    "7\\. (0.5 Point) Let's take a deeper look into one of the features, the `num_texts`, which stands for the number of text messages. Let's try and understand the distribution of this field. We can do this using the hist() method and matplotlib. Draw a histogram graph of `num_texts` from the dataframe `ads`, set the title of the graph as `'Histogram of Number of Texts'`."
   ]
  },
  {
   "cell_type": "code",
   "execution_count": 32,
   "metadata": {},
   "outputs": [
    {
     "data": {
      "text/plain": [
       "Text(0.5, 1.0, 'Histogram of Number of Texts')"
      ]
     },
     "execution_count": 32,
     "metadata": {},
     "output_type": "execute_result"
    },
    {
     "data": {
      "image/png": "[encoded data removed]",
      "text/plain": [
       "<Figure size 432x288 with 1 Axes>"
      ]
     },
     "metadata": {
      "needs_background": "light"
     },
     "output_type": "display_data"
    }
   ],
   "source": [
    "import matplotlib.pyplot as plt\n",
    "plt.hist(ads['num_texts'], bins=50)\n",
    "plt.xlim(0,10000)\n",
    "plt.title('Histogram of Number of Texts')"
   ]
  },
  {
   "cell_type": "markdown",
   "metadata": {},
   "source": [
    "8\\. (1.5 Point) How would you characterize the shape of this distribution? Is there anything we can do to the texts variable to make the distribution more bell curved? \n",
    "\n",
    "Hint: Let's create a new column in the dataframe called `'log_num_texts'` and print a histogram `'Histogram of Log(Num Texts)'` of it. What might be some advantages of making such a transformation?"
   ]
  },
  {
   "cell_type": "code",
   "execution_count": 33,
   "metadata": {},
   "outputs": [
    {
     "data": {
      "text/plain": [
       "Text(0.5, 1.0, 'Histogram of Log(Num Texts)')"
      ]
     },
     "execution_count": 33,
     "metadata": {},
     "output_type": "execute_result"
    },
    {
     "data": {
      "image/png": "[encoded data removed]",
      "text/plain": [
       "<Figure size 432x288 with 1 Axes>"
      ]
     },
     "metadata": {
      "needs_background": "light"
     },
     "output_type": "display_data"
    }
   ],
   "source": [
    "#  Right now the distribution seems to be very right skewed\n",
    "\n",
    "#  We can try amd turn it into a normal distribution by performing a log transformation, since that would\n",
    "#  allow us to compare the geometric mean.\n",
    "#  This is important considering many inferential statistics methods require that the data be normal distributed.\n",
    "\n",
    "ads['log_num_texts'] = np.log(ads['num_texts'])\n",
    "plt.hist(ads['log_num_texts'], bins=30)\n",
    "plt.title('Histogram of Log(Num Texts)')"
   ]
  },
  {
   "cell_type": "markdown",
   "metadata": {},
   "source": [
    "End of Homework2"
   ]
  }
 ],
 "metadata": {
  "anaconda-cloud": {},
  "kernelspec": {
   "display_name": "Python 3",
   "language": "python",
   "name": "python3"
  },
  "language_info": {
   "codemirror_mode": {
    "name": "ipython",
    "version": 3
   },
   "file_extension": ".py",
   "mimetype": "text/x-python",
   "name": "python",
   "nbconvert_exporter": "python",
   "pygments_lexer": "ipython3",
   "version": "3.7.3"
  }
 },
 "nbformat": 4,
 "nbformat_minor": 1
}
